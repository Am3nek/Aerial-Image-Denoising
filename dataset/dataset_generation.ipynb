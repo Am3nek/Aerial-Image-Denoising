{
 "cells": [
  {
   "cell_type": "code",
   "execution_count": 1,
   "id": "6a201fa1",
   "metadata": {},
   "outputs": [],
   "source": [
    "import os\n",
    "import cv2\n",
    "import numpy as np\n",
    "import random\n",
    "import pandas as pd\n"
   ]
  },
  {
   "cell_type": "code",
   "execution_count": 2,
   "id": "b485091b",
   "metadata": {},
   "outputs": [],
   "source": [
    "def apply_gaussian_noise(image, noise_percent):\n",
    "    mean = 0\n",
    "    std_dev = 25  # standard deviation for Gaussian noise\n",
    "    noise = np.random.normal(mean, std_dev, image.shape).astype(np.uint8)\n",
    "    mask = create_random_mask(image.shape[:2], noise_percent)\n",
    "    noisy_image = image.copy()\n",
    "    noisy_image[mask] = cv2.add(image[mask], noise[mask])\n",
    "    return noisy_image, noise[mask]\n",
    "\n",
    "def apply_multiplicative_noise(image, noise_percent):\n",
    "    factor = np.random.uniform(0.6, 1.4, image.shape).astype(np.float32)\n",
    "    mask = create_random_mask(image.shape[:2], noise_percent)\n",
    "    noisy_image = image.copy().astype(np.float32)\n",
    "    noisy_image[mask] *= factor[mask]\n",
    "    noisy_image = np.clip(noisy_image, 0, 255).astype(np.uint8)\n",
    "    return noisy_image, factor[mask] - 1.0\n",
    "\n",
    "def apply_random_noise(image, noise_percent):\n",
    "    noise = np.random.randint(0, 256, image.shape, dtype=np.uint8)\n",
    "    mask = create_random_mask(image.shape[:2], noise_percent)\n",
    "    noisy_image = image.copy()\n",
    "    noisy_image[mask] = noise[mask]\n",
    "    return noisy_image, noise[mask]\n",
    "\n",
    "def create_random_mask(shape, noise_percent):\n",
    "    total_pixels = shape[0] * shape[1]\n",
    "    num_noisy_pixels = int(total_pixels * random.uniform(noise_percent[0], noise_percent[1]) / 100)\n",
    "    flat_indices = np.random.choice(total_pixels, num_noisy_pixels, replace=False)\n",
    "    mask = np.zeros(shape, dtype=bool).flatten()\n",
    "    mask[flat_indices] = True\n",
    "    return mask.reshape(shape)"
   ]
  },
  {
   "cell_type": "code",
   "execution_count": null,
   "id": "6c22c230",
   "metadata": {},
   "outputs": [],
   "source": [
    "\n",
    "\n",
    "# Example usage\n",
    "input_dir = 'path/to/input/images'\n",
    "output_dir = 'path/to/output/noisy_images'\n",
    "process_images(input_dir, output_dir)\n"
   ]
  },
  {
   "cell_type": "code",
   "execution_count": 7,
   "id": "693bc7c8",
   "metadata": {},
   "outputs": [
    {
     "name": "stderr",
     "output_type": "stream",
     "text": [
      "Corrupt JPEG data: premature end of data segment\n"
     ]
    },
    {
     "name": "stdout",
     "output_type": "stream",
     "text": [
      "✅ CSV file saved at: /Users/vedanshkumar/Documents/Fun_ml/Projects/FuzzyLogicFiltering/dataset/Dataset_V4/noisy/noise_metadata.csv\n",
      "✅ Processed 13750 images.\n"
     ]
    }
   ],
   "source": [
    "import os\n",
    "import cv2\n",
    "import numpy as np\n",
    "import random\n",
    "import pandas as pd\n",
    "\n",
    "def apply_gaussian_noise(image, noise_percent):\n",
    "    mean = 0\n",
    "    std_dev = 25\n",
    "    noise = np.random.normal(mean, std_dev, image.shape).astype(np.uint8)\n",
    "    mask = create_random_mask(image.shape[:2], noise_percent)\n",
    "    noisy_image = image.copy()\n",
    "    noisy_image[mask] = cv2.add(image[mask], noise[mask])\n",
    "    return noisy_image, noise[mask]\n",
    "\n",
    "def apply_multiplicative_noise(image, noise_percent):\n",
    "    factor = np.random.uniform(0.6, 1.4, image.shape).astype(np.float32)\n",
    "    mask = create_random_mask(image.shape[:2], noise_percent)\n",
    "    noisy_image = image.copy().astype(np.float32)\n",
    "    noisy_image[mask] *= factor[mask]\n",
    "    noisy_image = np.clip(noisy_image, 0, 255).astype(np.uint8)\n",
    "    return noisy_image, factor[mask] - 1.0\n",
    "\n",
    "def apply_random_noise(image, noise_percent):\n",
    "    noise = np.random.randint(0, 256, image.shape, dtype=np.uint8)\n",
    "    mask = create_random_mask(image.shape[:2], noise_percent)\n",
    "    noisy_image = image.copy()\n",
    "    noisy_image[mask] = noise[mask]\n",
    "    return noisy_image, noise[mask]\n",
    "\n",
    "def create_random_mask(shape, noise_percent):\n",
    "    total_pixels = shape[0] * shape[1]\n",
    "    num_noisy_pixels = int(total_pixels * random.uniform(noise_percent[0], noise_percent[1]) / 100)\n",
    "    flat_indices = np.random.choice(total_pixels, num_noisy_pixels, replace=False)\n",
    "    mask = np.zeros(shape, dtype=bool).flatten()\n",
    "    mask[flat_indices] = True\n",
    "    return mask.reshape(shape)\n",
    "\n",
    "def process_images(input_folder, output_folder, noise_percent=(20, 40)):\n",
    "    if not os.path.exists(output_folder):\n",
    "        os.makedirs(output_folder)\n",
    "\n",
    "    noise_types = ['gaussian', 'multiplicative', 'random']\n",
    "    data = []\n",
    "\n",
    "    image_files = [f for f in os.listdir(input_folder) if f.lower().endswith(('png', 'jpg', 'jpeg'))]\n",
    "    random.shuffle(image_files)\n",
    "\n",
    "    if not image_files:\n",
    "        print(\"⚠️ No images found in the input folder.\")\n",
    "        return\n",
    "\n",
    "    for i, image_file in enumerate(image_files):\n",
    "        image_path = os.path.join(input_folder, image_file)\n",
    "        image = cv2.imread(image_path)\n",
    "\n",
    "        if image is None:\n",
    "            print(f\"⚠️ Could not read image: {image_file}\")\n",
    "            continue\n",
    "\n",
    "        noise_type = noise_types[i % 3]\n",
    "\n",
    "        if noise_type == 'gaussian':\n",
    "            noisy_img, noise_data = apply_gaussian_noise(image, noise_percent)\n",
    "        elif noise_type == 'multiplicative':\n",
    "            noisy_img, noise_data = apply_multiplicative_noise(image, noise_percent)\n",
    "        elif noise_type == 'random':\n",
    "            noisy_img, noise_data = apply_random_noise(image, noise_percent)\n",
    "\n",
    "        out_path = os.path.join(output_folder, image_file)\n",
    "        cv2.imwrite(out_path, noisy_img)\n",
    "\n",
    "        noise_applied_percent = round(100 * len(noise_data) / (image.shape[0] * image.shape[1]), 2)\n",
    "        data.append({\n",
    "            'image_name': image_file,\n",
    "            'noise_type': noise_type,\n",
    "            'noise_percent': noise_applied_percent\n",
    "        })\n",
    "\n",
    "    df = pd.DataFrame(data)\n",
    "    csv_path = os.path.join(output_folder, 'noise_metadata.csv')\n",
    "    df.to_csv(csv_path, index=False)\n",
    "    print(f\"✅ CSV file saved at: {csv_path}\")\n",
    "    print(f\"✅ Processed {len(data)} images.\")\n",
    "\n",
    "# Example usage\n",
    "input_dir = '/Users/vedanshkumar/Documents/Fun_ml/Projects/FuzzyLogicFiltering/dataset/Dataset_V4/clean'\n",
    "output_dir = '/Users/vedanshkumar/Documents/Fun_ml/Projects/FuzzyLogicFiltering/dataset/Dataset_V4/noisy'\n",
    "process_images(input_dir, output_dir)"
   ]
  },
  {
   "cell_type": "code",
   "execution_count": 6,
   "id": "2674f763",
   "metadata": {},
   "outputs": [
    {
     "ename": "NameError",
     "evalue": "name 'df' is not defined",
     "output_type": "error",
     "traceback": [
      "\u001b[0;31m---------------------------------------------------------------------------\u001b[0m",
      "\u001b[0;31mNameError\u001b[0m                                 Traceback (most recent call last)",
      "Cell \u001b[0;32mIn[6], line 1\u001b[0m\n\u001b[0;32m----> 1\u001b[0m \u001b[43mdf\u001b[49m\n",
      "\u001b[0;31mNameError\u001b[0m: name 'df' is not defined"
     ]
    }
   ],
   "source": [
    "df"
   ]
  },
  {
   "cell_type": "code",
   "execution_count": null,
   "id": "b68f382c",
   "metadata": {},
   "outputs": [],
   "source": []
  }
 ],
 "metadata": {
  "kernelspec": {
   "display_name": "Python 3",
   "language": "python",
   "name": "python3"
  },
  "language_info": {
   "codemirror_mode": {
    "name": "ipython",
    "version": 3
   },
   "file_extension": ".py",
   "mimetype": "text/x-python",
   "name": "python",
   "nbconvert_exporter": "python",
   "pygments_lexer": "ipython3",
   "version": "3.9.6"
  }
 },
 "nbformat": 4,
 "nbformat_minor": 5
}
