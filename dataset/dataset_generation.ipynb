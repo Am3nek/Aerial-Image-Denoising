{
 "cells": [
  {
   "cell_type": "code",
   "execution_count": 1,
   "metadata": {},
   "outputs": [],
   "source": [
    "from PIL import Image\n",
    "import os\n",
    "import random\n",
    "import numpy as np\n",
    "import pandas as pd\n",
    "import matplotlib.pyplot as plt\n",
    "from tqdm import tqdm\n",
    "import cv2"
   ]
  },
  {
   "cell_type": "code",
   "execution_count": 2,
   "metadata": {},
   "outputs": [
    {
     "data": {
      "text/html": [
       "<div>\n",
       "<style scoped>\n",
       "    .dataframe tbody tr th:only-of-type {\n",
       "        vertical-align: middle;\n",
       "    }\n",
       "\n",
       "    .dataframe tbody tr th {\n",
       "        vertical-align: top;\n",
       "    }\n",
       "\n",
       "    .dataframe thead th {\n",
       "        text-align: right;\n",
       "    }\n",
       "</style>\n",
       "<table border=\"1\" class=\"dataframe\">\n",
       "  <thead>\n",
       "    <tr style=\"text-align: right;\">\n",
       "      <th></th>\n",
       "      <th>Path</th>\n",
       "      <th>Class</th>\n",
       "      <th>White_noise</th>\n",
       "      <th>Pepper_noise</th>\n",
       "    </tr>\n",
       "  </thead>\n",
       "  <tbody>\n",
       "  </tbody>\n",
       "</table>\n",
       "</div>"
      ],
      "text/plain": [
       "Empty DataFrame\n",
       "Columns: [Path, Class, White_noise, Pepper_noise]\n",
       "Index: []"
      ]
     },
     "execution_count": 2,
     "metadata": {},
     "output_type": "execute_result"
    }
   ],
   "source": [
    "metadata_df = pd.DataFrame(columns=[\"Path\",\"Class\",\"White_noise\",\"Pepper_noise\"])\n",
    "metadata_df"
   ]
  },
  {
   "cell_type": "code",
   "execution_count": 3,
   "metadata": {},
   "outputs": [],
   "source": [
    "def add_impulse_noise(image, prob_salt=0.1, prob_pepper=0.02):\n",
    "    if isinstance(image, Image.Image):\n",
    "        img_array = np.array(image)\n",
    "    else:\n",
    "        img_array = image.copy()\n",
    "\n",
    "    noisy_image = img_array.copy()\n",
    "    total_pixels = img_array.size\n",
    "    num_salt = int(total_pixels * prob_salt)\n",
    "    num_pepper = int(total_pixels * prob_pepper)\n",
    "    coords = [np.random.randint(0, i - 1, num_salt) for i in img_array.shape]\n",
    "    noisy_image[coords[0], coords[1]] = 255\n",
    "    coords = [np.random.randint(0, i - 1, num_pepper) for i in img_array.shape]\n",
    "    noisy_image[coords[0], coords[1]] = 0\n",
    "    if len(img_array.shape) == 3:\n",
    "        noisy_image[coords[0], coords[1], :] = 0\n",
    "    return Image.fromarray(noisy_image)"
   ]
  },
  {
   "cell_type": "code",
   "execution_count": 4,
   "metadata": {},
   "outputs": [],
   "source": [
    "PATH = '/Users/vedanshkumar/Documents/Fun_ml/Projects/FuzzyLogicFiltering/dataset/AID'\n",
    "CATEGORIES = os.listdir(PATH)"
   ]
  },
  {
   "cell_type": "code",
   "execution_count": 5,
   "metadata": {},
   "outputs": [
    {
     "name": "stderr",
     "output_type": "stream",
     "text": [
      "/var/folders/kt/rpgv1_gs2sz58ldgmhqpxdfc0000gn/T/ipykernel_24389/4073754819.py:31: FutureWarning: The behavior of DataFrame concatenation with empty or all-NA entries is deprecated. In a future version, this will no longer exclude empty or all-NA columns when determining the result dtypes. To retain the old behavior, exclude the relevant entries before the concat operation.\n",
      "  metadata_df = pd.concat([metadata_df, new_data], ignore_index=True)\n"
     ]
    }
   ],
   "source": [
    "# Ensure directories exist\n",
    "clean_dir = \"/Users/vedanshkumar/Documents/Fun_ml/Projects/FuzzyLogicFiltering/dataset/Dataset/Clean\"\n",
    "noisy_dir = \"/Users/vedanshkumar/Documents/Fun_ml/Projects/FuzzyLogicFiltering/dataset/Dataset/Noisy\"\n",
    "\n",
    "os.makedirs(clean_dir, exist_ok=True)\n",
    "os.makedirs(noisy_dir, exist_ok=True)\n",
    "\n",
    "for category in CATEGORIES:\n",
    "    imgs = os.listdir(f'{PATH}/{category}')\n",
    "    \n",
    "    for img in imgs:\n",
    "        img_path = f'{PATH}/{category}/{img}'\n",
    "        clean_img = Image.open(img_path)\n",
    "\n",
    "        # Add random salt and pepper noise\n",
    "        prob_salt = random.uniform(0.01, 0.06)\n",
    "        prob_pepper = random.uniform(0.01, 0.06)\n",
    "        \n",
    "        noisy_img = add_impulse_noise(clean_img, prob_salt, prob_pepper)\n",
    "\n",
    "        # Save images\n",
    "        clean_img.save(f\"{clean_dir}/{img}\")\n",
    "        noisy_img.save(f\"{noisy_dir}/noisy_{img}\")\n",
    "\n",
    "        # Append metadata using pd.concat()\n",
    "        new_data = pd.DataFrame([\n",
    "            {\"Path\": f\"Clean/{img}\", \"Class\": \"Clean\", \"White_noise\": 0, \"Pepper_noise\": 0},\n",
    "            {\"Path\": f\"Noisy/noisy_{img}\", \"Class\": \"Noisy\", \"White_noise\": prob_salt, \"Pepper_noise\": prob_pepper}\n",
    "        ])\n",
    "        \n",
    "        metadata_df = pd.concat([metadata_df, new_data], ignore_index=True)"
   ]
  },
  {
   "cell_type": "code",
   "execution_count": 6,
   "metadata": {},
   "outputs": [
    {
     "data": {
      "text/plain": [
       "Index(['Path', 'Class', 'White_noise', 'Pepper_noise'], dtype='object')"
      ]
     },
     "execution_count": 6,
     "metadata": {},
     "output_type": "execute_result"
    }
   ],
   "source": [
    "metadata_df.columns"
   ]
  },
  {
   "cell_type": "code",
   "execution_count": 7,
   "metadata": {},
   "outputs": [
    {
     "data": {
      "text/html": [
       "<div>\n",
       "<style scoped>\n",
       "    .dataframe tbody tr th:only-of-type {\n",
       "        vertical-align: middle;\n",
       "    }\n",
       "\n",
       "    .dataframe tbody tr th {\n",
       "        vertical-align: top;\n",
       "    }\n",
       "\n",
       "    .dataframe thead th {\n",
       "        text-align: right;\n",
       "    }\n",
       "</style>\n",
       "<table border=\"1\" class=\"dataframe\">\n",
       "  <thead>\n",
       "    <tr style=\"text-align: right;\">\n",
       "      <th></th>\n",
       "      <th>Path</th>\n",
       "      <th>Class</th>\n",
       "      <th>White_noise</th>\n",
       "      <th>Pepper_noise</th>\n",
       "    </tr>\n",
       "  </thead>\n",
       "  <tbody>\n",
       "    <tr>\n",
       "      <th>0</th>\n",
       "      <td>Clean/pond_127.jpg</td>\n",
       "      <td>Clean</td>\n",
       "      <td>0.000000</td>\n",
       "      <td>0.000000</td>\n",
       "    </tr>\n",
       "    <tr>\n",
       "      <th>1</th>\n",
       "      <td>Noisy/noisy_pond_127.jpg</td>\n",
       "      <td>Noisy</td>\n",
       "      <td>0.057622</td>\n",
       "      <td>0.048258</td>\n",
       "    </tr>\n",
       "    <tr>\n",
       "      <th>2</th>\n",
       "      <td>Clean/pond_133.jpg</td>\n",
       "      <td>Clean</td>\n",
       "      <td>0.000000</td>\n",
       "      <td>0.000000</td>\n",
       "    </tr>\n",
       "    <tr>\n",
       "      <th>3</th>\n",
       "      <td>Noisy/noisy_pond_133.jpg</td>\n",
       "      <td>Noisy</td>\n",
       "      <td>0.028439</td>\n",
       "      <td>0.025684</td>\n",
       "    </tr>\n",
       "    <tr>\n",
       "      <th>4</th>\n",
       "      <td>Clean/pond_319.jpg</td>\n",
       "      <td>Clean</td>\n",
       "      <td>0.000000</td>\n",
       "      <td>0.000000</td>\n",
       "    </tr>\n",
       "    <tr>\n",
       "      <th>...</th>\n",
       "      <td>...</td>\n",
       "      <td>...</td>\n",
       "      <td>...</td>\n",
       "      <td>...</td>\n",
       "    </tr>\n",
       "    <tr>\n",
       "      <th>19995</th>\n",
       "      <td>Noisy/noisy_storagetanks_38.jpg</td>\n",
       "      <td>Noisy</td>\n",
       "      <td>0.015900</td>\n",
       "      <td>0.058787</td>\n",
       "    </tr>\n",
       "    <tr>\n",
       "      <th>19996</th>\n",
       "      <td>Clean/storagetanks_236.jpg</td>\n",
       "      <td>Clean</td>\n",
       "      <td>0.000000</td>\n",
       "      <td>0.000000</td>\n",
       "    </tr>\n",
       "    <tr>\n",
       "      <th>19997</th>\n",
       "      <td>Noisy/noisy_storagetanks_236.jpg</td>\n",
       "      <td>Noisy</td>\n",
       "      <td>0.022757</td>\n",
       "      <td>0.058457</td>\n",
       "    </tr>\n",
       "    <tr>\n",
       "      <th>19998</th>\n",
       "      <td>Clean/storagetanks_222.jpg</td>\n",
       "      <td>Clean</td>\n",
       "      <td>0.000000</td>\n",
       "      <td>0.000000</td>\n",
       "    </tr>\n",
       "    <tr>\n",
       "      <th>19999</th>\n",
       "      <td>Noisy/noisy_storagetanks_222.jpg</td>\n",
       "      <td>Noisy</td>\n",
       "      <td>0.010644</td>\n",
       "      <td>0.014035</td>\n",
       "    </tr>\n",
       "  </tbody>\n",
       "</table>\n",
       "<p>20000 rows × 4 columns</p>\n",
       "</div>"
      ],
      "text/plain": [
       "                                   Path  Class  White_noise  Pepper_noise\n",
       "0                    Clean/pond_127.jpg  Clean     0.000000      0.000000\n",
       "1              Noisy/noisy_pond_127.jpg  Noisy     0.057622      0.048258\n",
       "2                    Clean/pond_133.jpg  Clean     0.000000      0.000000\n",
       "3              Noisy/noisy_pond_133.jpg  Noisy     0.028439      0.025684\n",
       "4                    Clean/pond_319.jpg  Clean     0.000000      0.000000\n",
       "...                                 ...    ...          ...           ...\n",
       "19995   Noisy/noisy_storagetanks_38.jpg  Noisy     0.015900      0.058787\n",
       "19996        Clean/storagetanks_236.jpg  Clean     0.000000      0.000000\n",
       "19997  Noisy/noisy_storagetanks_236.jpg  Noisy     0.022757      0.058457\n",
       "19998        Clean/storagetanks_222.jpg  Clean     0.000000      0.000000\n",
       "19999  Noisy/noisy_storagetanks_222.jpg  Noisy     0.010644      0.014035\n",
       "\n",
       "[20000 rows x 4 columns]"
      ]
     },
     "execution_count": 7,
     "metadata": {},
     "output_type": "execute_result"
    }
   ],
   "source": [
    "metadata_df"
   ]
  },
  {
   "cell_type": "code",
   "execution_count": 8,
   "metadata": {},
   "outputs": [],
   "source": [
    "metadata_df.to_csv(r\"/Users/vedanshkumar/Documents/Fun_ml/Projects/FuzzyLogicFiltering/dataset/Dataset/metadata.csv\")"
   ]
  }
 ],
 "metadata": {
  "kernelspec": {
   "display_name": "Python 3",
   "language": "python",
   "name": "python3"
  },
  "language_info": {
   "codemirror_mode": {
    "name": "ipython",
    "version": 3
   },
   "file_extension": ".py",
   "mimetype": "text/x-python",
   "name": "python",
   "nbconvert_exporter": "python",
   "pygments_lexer": "ipython3",
   "version": "3.9.6"
  }
 },
 "nbformat": 4,
 "nbformat_minor": 2
}
